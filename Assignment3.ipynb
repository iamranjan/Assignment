{
 "cells": [
  {
   "cell_type": "markdown",
   "metadata": {
    "colab_type": "text",
    "id": "wrmsPWIgxp16"
   },
   "source": [
    "## Problem Statement"
   ]
  },
  {
   "cell_type": "markdown",
   "metadata": {
    "colab_type": "text",
    "id": "4ucMxPlixp1_"
   },
   "source": [
    "---\n",
    "#### Q.1 Write a function to compute 5/0 and use try/except to catch the exceptions."
   ]
  },
  {
   "cell_type": "code",
   "execution_count": 1,
   "metadata": {
    "colab": {
     "base_uri": "https://localhost:8080/",
     "height": 67
    },
    "colab_type": "code",
    "id": "tfVjOqgmxp2C",
    "outputId": "12f0daa4-790e-40d4-90b7-c0699d9b63b9"
   },
   "outputs": [
    {
     "name": "stdout",
     "output_type": "stream",
     "text": [
      "error found: division by zero\n",
      "\n",
      "result of 5/0 = infinity\n"
     ]
    }
   ],
   "source": [
    "def computeDivision(numerator, denominator):\n",
    "    try:\n",
    "        result = numerator/denominator\n",
    "    except ZeroDivisionError as e:\n",
    "        print(f\"error found: {e}\")\n",
    "        result=\"infinity\"\n",
    "    return result\n",
    "\n",
    "numerator = 5\n",
    "denominator = 0\n",
    "ans = computeDivision(numerator, denominator)\n",
    "print(f\"\\nresult of {numerator}/{denominator} = {ans}\")"
   ]
  },
  {
   "cell_type": "markdown",
   "metadata": {
    "colab_type": "text",
    "id": "3g2ElY9Rxp2L"
   },
   "source": [
    "---\n",
    "#### Q.2 Implement a Python program to generate all sentences where subject is in [\"Americans\",\"Indians\"] and verb is in [\"Play\", \"watch\"] and the object is in [\"Baseball\",\"cricket\"].\n",
    "\n",
    "    Hint: Subject,Verb and Object should be declared in the program as shown below.\n",
    "    subjects=[\"Americans \",\"Indians\"]\n",
    "    verbs=[\"play\",\"watch\"]\n",
    "    objects=[\"Baseball\",\"Cricket\"]\n",
    "\n",
    "    Output should come as below:\n",
    "    Americans play Baseball.\n",
    "    Americans play Cricket.\n",
    "    Americans watch Baseball.\n",
    "    Americans watch Cricket.\n",
    "    Indians play Baseball.\n",
    "    Indians play Cricket.\n",
    "    Indians watch Baseball.\n",
    "    Indians watch Cricket."
   ]
  },
  {
   "cell_type": "code",
   "execution_count": 0,
   "metadata": {
    "colab": {},
    "colab_type": "code",
    "id": "650YemPJxp2O"
   },
   "outputs": [],
   "source": [
    "def sentence_generator(subjects=None, verbs=None, objects=None):\n",
    "    for sub in subjects:\n",
    "        for verb in verbs:\n",
    "            for obj in objects:\n",
    "                print(f\"{sub} {verb} {obj}\")\n"
   ]
  },
  {
   "cell_type": "code",
   "execution_count": 3,
   "metadata": {
    "colab": {
     "base_uri": "https://localhost:8080/",
     "height": 151
    },
    "colab_type": "code",
    "id": "7NrZgtAlMq5p",
    "outputId": "28db6219-260a-4f31-bbd4-d2625d3073a5"
   },
   "outputs": [
    {
     "name": "stdout",
     "output_type": "stream",
     "text": [
      "Americans play Baseball\n",
      "Americans play Cricket\n",
      "Americans watch Baseball\n",
      "Americans watch Cricket\n",
      "Indians play Baseball\n",
      "Indians play Cricket\n",
      "Indians watch Baseball\n",
      "Indians watch Cricket\n"
     ]
    }
   ],
   "source": [
    "SUBJECT=[\"Americans\",\"Indians\"]\n",
    "VERB=[\"play\",\"watch\"]\n",
    "OBJECT=[\"Baseball\",\"Cricket\"]\n",
    "\n",
    "sentence_generator(subjects=SUBJECT, verbs=VERB, objects=OBJECT)"
   ]
  },
  {
   "cell_type": "markdown",
   "metadata": {
    "colab_type": "text",
    "id": "pwxwLkskxp2W"
   },
   "source": [
    "---\n",
    "#### Q.3 Write a function so that the columns of the output matrix are powers of the input vector.\n",
    "\n",
    "#### The order of the powers is determined by the increasing boolean argument. Specifically, when\n",
    "\n",
    "#### increasing is False, the i-th output column is the input vector raised element-wise to the power\n",
    "of N - i - 1.\n",
    "\n",
    "    HINT: Such a matrix with a geometric progression in each row is named for Alexandre Theophile Vandermonde."
   ]
  },
  {
   "cell_type": "code",
   "execution_count": 0,
   "metadata": {
    "colab": {},
    "colab_type": "code",
    "id": "vHIKT8f92Lfk"
   },
   "outputs": [],
   "source": [
    "def getVanderMatrix(x, N=None, increasing=False):\n",
    "    '''Cusomt Vander matrix generator'''\n",
    "\n",
    "    # default condition if N is not given\n",
    "    if N is None:\n",
    "        N = len(x)\n",
    "        \n",
    "    matrix = []\n",
    "    # generating powers for each row based on N value in decreasing order\n",
    "    # which is a default case\n",
    "    pows = [(N-i-1) for N,i in zip([N]*N, range(N))]\n",
    "\n",
    "    # for increaing == True case\n",
    "    # reverse the pows array \n",
    "    if increasing:\n",
    "        pows = pows[::-1]\n",
    "\n",
    "    # iterate over x to generate and print each row\n",
    "    for ele in x:\n",
    "        row = [ele**pwr for pwr in pows] \n",
    "        print(row)\n",
    "        matrix.append(row)\n",
    "    return matrix"
   ]
  },
  {
   "cell_type": "code",
   "execution_count": 5,
   "metadata": {
    "colab": {
     "base_uri": "https://localhost:8080/",
     "height": 67
    },
    "colab_type": "code",
    "id": "ufEK5UgC9D4H",
    "outputId": "58e2ca60-f83b-4bcf-9010-68e17b2f2d51"
   },
   "outputs": [
    {
     "name": "stdout",
     "output_type": "stream",
     "text": [
      "[1, 1, 1]\n",
      "[4, 2, 1]\n",
      "[9, 3, 1]\n"
     ]
    }
   ],
   "source": [
    "inputVector = [1,2,3]\n",
    "no_of_ouput = 3\n",
    "result = getVanderMatrix(x=inputVector, N=no_of_ouput)"
   ]
  },
  {
   "cell_type": "code",
   "execution_count": 6,
   "metadata": {
    "colab": {
     "base_uri": "https://localhost:8080/",
     "height": 67
    },
    "colab_type": "code",
    "id": "rdKPBdjI9lKN",
    "outputId": "f99c001c-0dbf-4d52-fd8a-484dcbf40282"
   },
   "outputs": [
    {
     "name": "stdout",
     "output_type": "stream",
     "text": [
      "[1, 1, 1]\n",
      "[1, 2, 4]\n",
      "[1, 3, 9]\n"
     ]
    }
   ],
   "source": [
    "inputVector = [1,2,3]\n",
    "no_of_ouput = 3\n",
    "result = getVanderMatrix(x=inputVector, N=no_of_ouput, increasing=True)"
   ]
  },
  {
   "cell_type": "code",
   "execution_count": 7,
   "metadata": {
    "colab": {
     "base_uri": "https://localhost:8080/",
     "height": 67
    },
    "colab_type": "code",
    "id": "WZ0b6wCn9HsK",
    "outputId": "db9a199a-10c3-43ae-ca49-c2edc86ec3e4"
   },
   "outputs": [
    {
     "name": "stdout",
     "output_type": "stream",
     "text": [
      "[1, 1, 1, 1]\n",
      "[8, 4, 2, 1]\n",
      "[27, 9, 3, 1]\n"
     ]
    }
   ],
   "source": [
    "inputVector = [1,2,3]\n",
    "no_of_ouput = 4\n",
    "result = getVanderMatrix(x=inputVector, N=no_of_ouput)"
   ]
  },
  {
   "cell_type": "code",
   "execution_count": 8,
   "metadata": {
    "colab": {
     "base_uri": "https://localhost:8080/",
     "height": 67
    },
    "colab_type": "code",
    "id": "JjNfHcWU9prG",
    "outputId": "b4aa5f89-6642-499e-90bc-e5572d5bd82a"
   },
   "outputs": [
    {
     "name": "stdout",
     "output_type": "stream",
     "text": [
      "[1, 1, 1, 1]\n",
      "[1, 2, 4, 8]\n",
      "[1, 3, 9, 27]\n"
     ]
    }
   ],
   "source": [
    "inputVector = [1,2,3]\n",
    "no_of_ouput = 4\n",
    "result = getVanderMatrix(x=inputVector, N=no_of_ouput, increasing=True)"
   ]
  },
  {
   "cell_type": "code",
   "execution_count": 9,
   "metadata": {
    "colab": {
     "base_uri": "https://localhost:8080/",
     "height": 84
    },
    "colab_type": "code",
    "id": "TctHWlmr9ISW",
    "outputId": "e17a5558-785e-46d4-fba1-9d22caaf6d53"
   },
   "outputs": [
    {
     "name": "stdout",
     "output_type": "stream",
     "text": [
      "[1, 1, 1]\n",
      "[4, 2, 1]\n",
      "[9, 3, 1]\n",
      "[25, 5, 1]\n"
     ]
    }
   ],
   "source": [
    "inputVector = [1,2,3,5]\n",
    "no_of_ouput = 3\n",
    "result = getVanderMatrix(x=inputVector, N=no_of_ouput)"
   ]
  },
  {
   "cell_type": "code",
   "execution_count": 10,
   "metadata": {
    "colab": {
     "base_uri": "https://localhost:8080/",
     "height": 84
    },
    "colab_type": "code",
    "id": "tboauhoh-ADn",
    "outputId": "6b2dda92-4d07-439d-c141-15f3678b1e33"
   },
   "outputs": [
    {
     "name": "stdout",
     "output_type": "stream",
     "text": [
      "[1, 1, 1, 1]\n",
      "[8, 4, 2, 1]\n",
      "[27, 9, 3, 1]\n",
      "[125, 25, 5, 1]\n"
     ]
    }
   ],
   "source": [
    "inputVector = [1,2,3,5]\n",
    "result = getVanderMatrix(x=inputVector)"
   ]
  },
  {
   "cell_type": "code",
   "execution_count": 11,
   "metadata": {
    "colab": {
     "base_uri": "https://localhost:8080/",
     "height": 50
    },
    "colab_type": "code",
    "id": "q7Zc4gBx-GtK",
    "outputId": "3c4d329d-298e-458b-ec95-8014822edaf4"
   },
   "outputs": [
    {
     "name": "stdout",
     "output_type": "stream",
     "text": [
      "[1, 1]\n",
      "[2, 1]\n"
     ]
    }
   ],
   "source": [
    "inputVector = [1,2]\n",
    "result = getVanderMatrix(x=inputVector)"
   ]
  },
  {
   "cell_type": "code",
   "execution_count": 12,
   "metadata": {
    "colab": {
     "base_uri": "https://localhost:8080/",
     "height": 84
    },
    "colab_type": "code",
    "id": "N5PV_8Pc-NEh",
    "outputId": "df16d421-4cb3-44b5-f775-3f7f3be655d8"
   },
   "outputs": [
    {
     "name": "stdout",
     "output_type": "stream",
     "text": [
      "[1, 1, 1, 1]\n",
      "[1, 2, 4, 8]\n",
      "[1, 3, 9, 27]\n",
      "[1, 5, 25, 125]\n"
     ]
    }
   ],
   "source": [
    "inputVector = [1,2,3,5]\n",
    "result = getVanderMatrix(x=inputVector, increasing=True)"
   ]
  },
  {
   "cell_type": "markdown",
   "metadata": {
    "colab_type": "text",
    "id": "XTFVqhOBMUFv"
   },
   "source": [
    "#### A numpy.vander example -"
   ]
  },
  {
   "cell_type": "code",
   "execution_count": 0,
   "metadata": {
    "colab": {},
    "colab_type": "code",
    "id": "MOVB73Mv-ZO8"
   },
   "outputs": [],
   "source": [
    "import numpy as np"
   ]
  },
  {
   "cell_type": "code",
   "execution_count": 14,
   "metadata": {
    "colab": {
     "base_uri": "https://localhost:8080/",
     "height": 84
    },
    "colab_type": "code",
    "id": "KMv-Ja6CTbk0",
    "outputId": "3b062009-ebd3-4950-b0f8-93b48c8377ea"
   },
   "outputs": [
    {
     "data": {
      "text/plain": [
       "array([[ 1,  1,  1],\n",
       "       [ 4,  2,  1],\n",
       "       [ 9,  3,  1],\n",
       "       [25,  5,  1]])"
      ]
     },
     "execution_count": 14,
     "metadata": {
      "tags": []
     },
     "output_type": "execute_result"
    }
   ],
   "source": [
    "x = np.array([1,2,3,5])\n",
    "N = 3\n",
    "np.vander(x, N)"
   ]
  }
 ],
 "metadata": {
  "colab": {
   "collapsed_sections": [],
   "include_colab_link": true,
   "name": "Assignment 3 - Python functionDONE.ipynb",
   "provenance": []
  },
  "kernelspec": {
   "display_name": "Python 3",
   "language": "python",
   "name": "python3"
  },
  "language_info": {
   "codemirror_mode": {
    "name": "ipython",
    "version": 3
   },
   "file_extension": ".py",
   "mimetype": "text/x-python",
   "name": "python",
   "nbconvert_exporter": "python",
   "pygments_lexer": "ipython3",
   "version": "3.7.4"
  }
 },
 "nbformat": 4,
 "nbformat_minor": 1
}
