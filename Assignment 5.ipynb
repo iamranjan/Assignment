{
 "cells": [
  {
   "cell_type": "markdown",
   "metadata": {
    "colab_type": "text",
    "id": "opM3pS9y4Fn3"
   },
   "source": [
    "---\n",
    "Q1. Write a Python program to get the string from the given string where\n",
    "all the occurrence of its first char has been changed to '$,' except first\n",
    "char itself?\n",
    "\n",
    "    Sample String: 'prospect'\n",
    "    Expected Result : 'pros$ect'\n"
   ]
  },
  {
   "cell_type": "code",
   "execution_count": 2,
   "metadata": {
    "colab": {},
    "colab_type": "code",
    "id": "KU_CQbcp_pl4"
   },
   "outputs": [],
   "source": [
    "def leave_first_change_rest(inString=None, replacement=\"$\"):\n",
    "    '''\n",
    "    replace all the occurances of chars in input string with \n",
    "    \"$\" by default except the first occurance\n",
    "    '''\n",
    "    # init result with empty string\n",
    "    result = str()\n",
    "\n",
    "    # enumerate over input string\n",
    "    for i, char in enumerate(inString):\n",
    "        # if count of char in given string till count i+1 is > 1\n",
    "        if inString[:i+1].count(char) > 1:\n",
    "            # append result with replacement\n",
    "            result += replacement\n",
    "        else:\n",
    "            # append result with first occurances of char\n",
    "            result += char\n",
    "\n",
    "    return result"
   ]
  },
  {
   "cell_type": "code",
   "execution_count": 3,
   "metadata": {
    "colab": {
     "base_uri": "https://localhost:8080/",
     "height": 34
    },
    "colab_type": "code",
    "id": "nBh3ennU4Fn_",
    "outputId": "8e99dc4f-3a5f-4e21-eb88-b88810bdc84b"
   },
   "outputs": [
    {
     "data": {
      "text/plain": [
       "'pros$ect'"
      ]
     },
     "execution_count": 3,
     "metadata": {},
     "output_type": "execute_result"
    }
   ],
   "source": [
    "inString = 'prospect'\n",
    "leave_first_change_rest(inString)"
   ]
  },
  {
   "cell_type": "code",
   "execution_count": 4,
   "metadata": {
    "colab": {
     "base_uri": "https://localhost:8080/",
     "height": 34
    },
    "colab_type": "code",
    "id": "tTR62Jkj5Wif",
    "outputId": "26ee62b1-4f8f-48f2-a936-cf616a6e70ba"
   },
   "outputs": [
    {
     "data": {
      "text/plain": [
       "'Ranj$$Sh$rm$'"
      ]
     },
     "execution_count": 4,
     "metadata": {},
     "output_type": "execute_result"
    }
   ],
   "source": [
    "str1 =\"RanjanSharma\"\n",
    "leave_first_change_rest(inString=str1)"
   ]
  },
  {
   "cell_type": "code",
   "execution_count": 5,
   "metadata": {
    "colab": {
     "base_uri": "https://localhost:8080/",
     "height": 34
    },
    "colab_type": "code",
    "id": "fViG0YgR_dbg",
    "outputId": "6d4b188a-5ba3-4219-de6a-56a17b3fbb85"
   },
   "outputs": [
    {
     "data": {
      "text/plain": [
       "'Pythonisa__'"
      ]
     },
     "execution_count": 5,
     "metadata": {},
     "output_type": "execute_result"
    }
   ],
   "source": [
    "str1 =\"Pythonisato\"\n",
    "# can specifiy different replacement string\n",
    "leave_first_change_rest(inString=str1, replacement=\"_\")"
   ]
  },
  {
   "cell_type": "markdown",
   "metadata": {
    "colab_type": "text",
    "id": "Gycz-het4FoN"
   },
   "source": [
    "---\n",
    "Q2. Write a Python program to get the single string from the two given\n",
    "strings, and separated by the space and swap the first two characters of\n",
    "each string?\n",
    "\n",
    "    Sample String : 'abc', 'xyz'.\n",
    "    Expected Result: 'xyc abz'"
   ]
  },
  {
   "cell_type": "code",
   "execution_count": 0,
   "metadata": {
    "colab": {},
    "colab_type": "code",
    "id": "Rh_VzYJu4FoQ"
   },
   "outputs": [],
   "source": [
    "def reverse_with_space(str1, str2):\n",
    "    '''\n",
    "    make single string from two input string by exchanging the first\n",
    "    2 chars of input strings\n",
    "    '''\n",
    "    final1 = str2[:2] + str1[2:]\n",
    "    final2 = str1[:2] + str2[2:]\n",
    "    return f\"{final1} {final2}\""
   ]
  },
  {
   "cell_type": "code",
   "execution_count": 6,
   "metadata": {
    "colab": {
     "base_uri": "https://localhost:8080/",
     "height": 34
    },
    "colab_type": "code",
    "id": "yPTTqV198-UL",
    "outputId": "4c891380-338b-4a39-f1a8-218d6fccb17a"
   },
   "outputs": [
    {
     "data": {
      "text/plain": [
       "'xyc abz'"
      ]
     },
     "execution_count": 6,
     "metadata": {
      "tags": []
     },
     "output_type": "execute_result"
    }
   ],
   "source": [
    "string_1 = \"abc\"\n",
    "string_2 = \"xyz\"\n",
    "reverse_with_space(string_1, string_2)"
   ]
  },
  {
   "cell_type": "code",
   "execution_count": 7,
   "metadata": {
    "colab": {
     "base_uri": "https://localhost:8080/",
     "height": 34
    },
    "colab_type": "code",
    "id": "UWUdAAE49MEd",
    "outputId": "68f06b1f-e69b-4b95-e9b5-f663d92f4212"
   },
   "outputs": [
    {
     "data": {
      "text/plain": [
       "'Wollo Herld'"
      ]
     },
     "execution_count": 7,
     "metadata": {
      "tags": []
     },
     "output_type": "execute_result"
    }
   ],
   "source": [
    "string_1 = \"Hello\"\n",
    "string_2 = \"World\"\n",
    "reverse_with_space(string_1, string_2)"
   ]
  },
  {
   "cell_type": "markdown",
   "metadata": {
    "colab_type": "text",
    "id": "4K2NI-Mo4Fob"
   },
   "source": [
    "---\n",
    "Q3. Write the Python program to add 'ing' at the end of the given string\n",
    "(length of the string should be at least 3). If given string already ends\n",
    "with 'ing,' then add 'ly' instead. If string length of the given string is less\n",
    "than 3, leave it unchanged?\n",
    "\n",
    "\n",
    "    Sample string: ' abc '\n",
    "    Expected result: ' abcing '\n",
    "    Sample string: ' string '\n",
    "    Expected result: ' stringly '\n"
   ]
  },
  {
   "cell_type": "code",
   "execution_count": 6,
   "metadata": {
    "colab": {},
    "colab_type": "code",
    "id": "pARA6EuH4Fod"
   },
   "outputs": [],
   "source": [
    "def add_post_fix(inString):\n",
    "    '''\n",
    "    function to add conditional post fix in input string\n",
    "    '''\n",
    "    # stop execution and return a msg in case length os input\n",
    "    # string is less than 3\n",
    "    if len(inString) < 3:\n",
    "        return \"Enter a string with its length >= 3\"\n",
    "\n",
    "    # init result with empty string\n",
    "    result = str()\n",
    "\n",
    "    # if ends with ing then append input string with \"ly\"\n",
    "    if inString.endswith(\"ing\"):\n",
    "        return inString + \"ly\"\n",
    "\n",
    "    # otherwise return with appending input string with \"ing\"\n",
    "    return inString + \"ing\"\n"
   ]
  },
  {
   "cell_type": "code",
   "execution_count": 7,
   "metadata": {
    "colab": {},
    "colab_type": "code",
    "id": "SepuvlbL-BGJ"
   },
   "outputs": [],
   "source": [
    "case_1 = \"Am\"      # less than 3 case\n",
    "case_2 = \"tree\"     # without ing case\n",
    "case_3 = \"going\"  # with ing case"
   ]
  },
  {
   "cell_type": "code",
   "execution_count": 8,
   "metadata": {
    "colab": {
     "base_uri": "https://localhost:8080/",
     "height": 151
    },
    "colab_type": "code",
    "id": "OMp9O6P4-a2F",
    "outputId": "4ebf55ee-fcfb-4d69-e591-a783aa63de4d"
   },
   "outputs": [
    {
     "name": "stdout",
     "output_type": "stream",
     "text": [
      "entred string: Am, \n",
      "result: Enter a string with its length >= 3\n",
      "--------------------\n",
      "entred string: tree, \n",
      "result: treeing\n",
      "--------------------\n",
      "entred string: going, \n",
      "result: goingly\n"
     ]
    }
   ],
   "source": [
    "print(f\"entred string: {case_1}, \\nresult: {add_post_fix(case_1)}\")\n",
    "print(\"--\"*10)\n",
    "print(f\"entred string: {case_2}, \\nresult: {add_post_fix(case_2)}\")\n",
    "print(\"--\"*10)\n",
    "print(f\"entred string: {case_3}, \\nresult: {add_post_fix(case_3)}\")"
   ]
  },
  {
   "cell_type": "markdown",
   "metadata": {
    "colab_type": "text",
    "id": "gCiYAX1N4Fom"
   },
   "source": [
    "---\n",
    "Q4. Write the Python program to find the first appearance of the\n",
    "substring 'not' and 'poor' from the given string, if 'not' follows the 'poor',\n",
    "replace the whole 'not'...' poor' substring with 'good'.Return the resulting\n",
    "string.\n",
    "\n",
    "    Sample string: 'The lyrics are not that poor!'\n",
    "    'The lyrics are poor!'\n",
    "    Expected Result: 'The lyrics are good!'\n",
    "    'The lyrics are poor!'"
   ]
  },
  {
   "cell_type": "code",
   "execution_count": 9,
   "metadata": {
    "colab": {},
    "colab_type": "code",
    "id": "vAGVujR1tVdO"
   },
   "outputs": [],
   "source": [
    "def string_replacement(sample=None):\n",
    "    '''\n",
    "    It finds the first appearance of the substring 'not' and 'poor' \n",
    "    from the given string, \n",
    "    if 'not' follows the 'poor', \n",
    "    replace the whole 'not'...' poor' substring with 'good'.\n",
    "    Return the resulting string. \n",
    "    '''\n",
    "    d = dict() # init an empty dictionary\n",
    "    lst1 = sample.split() # split the sample string\n",
    "\n",
    "    # enumerate over lst1\n",
    "    for i, val in enumerate(lst1):\n",
    "        # save the index of \"poor\" and \"not\" in the dictionary\n",
    "        if (\"poor\" in val) or (\"not\" in val):\n",
    "            d[val] = i\n",
    "\n",
    "    result = list() # init empty list for storing results \n",
    "    # check if dictionary keys contain both 'not' and 'poor'\n",
    "    if list(d.keys()) == [\"not\", \"poor!\"]:\n",
    "        # check if index of not less than index of poor\n",
    "        if d[\"not\"] < d[\"poor!\"]:\n",
    "            # replace string from index of \"not\" to \"poor\" with \"good!\"\n",
    "            result = (lst1[:d[\"not\"]] + [\"good!\"] + lst1[d[\"poor!\"]+1:])\n",
    "            result = \" \".join(result) # join the resutls with \" \"\n",
    "            return result # return the results\n",
    "    # if sentence didnt contained either \"not\",\"poor\" or both\n",
    "    # then return the sample as it is \n",
    "    return sample\n"
   ]
  },
  {
   "cell_type": "code",
   "execution_count": 10,
   "metadata": {
    "colab": {},
    "colab_type": "code",
    "id": "W_6VBVW55Dn5"
   },
   "outputs": [],
   "source": [
    "sample1 = 'The lyrics are not that poor!'\n",
    "sample2 = 'The lyrics are poor!'"
   ]
  },
  {
   "cell_type": "code",
   "execution_count": 11,
   "metadata": {
    "colab": {
     "base_uri": "https://localhost:8080/",
     "height": 34
    },
    "colab_type": "code",
    "id": "8g2y-5QJ5R_K",
    "outputId": "8849af47-a9ee-4c66-bc30-f5288926cee8"
   },
   "outputs": [
    {
     "data": {
      "text/plain": [
       "'The lyrics are good!'"
      ]
     },
     "execution_count": 11,
     "metadata": {},
     "output_type": "execute_result"
    }
   ],
   "source": [
    "string_replacement(sample1)"
   ]
  },
  {
   "cell_type": "code",
   "execution_count": 12,
   "metadata": {
    "colab": {
     "base_uri": "https://localhost:8080/",
     "height": 34
    },
    "colab_type": "code",
    "id": "0to4yHge5bui",
    "outputId": "234dbf0d-9b23-471c-909b-352d90b6710a"
   },
   "outputs": [
    {
     "data": {
      "text/plain": [
       "'The lyrics are poor!'"
      ]
     },
     "execution_count": 12,
     "metadata": {},
     "output_type": "execute_result"
    }
   ],
   "source": [
    "string_replacement(sample2)"
   ]
  },
  {
   "cell_type": "markdown",
   "metadata": {
    "colab_type": "text",
    "id": "esuwYweK4Foy"
   },
   "source": [
    "---\n",
    "Q5. Write the Python program to remove the characters which have odd\n",
    "index values of a given string."
   ]
  },
  {
   "cell_type": "code",
   "execution_count": 13,
   "metadata": {
    "colab": {
     "base_uri": "https://localhost:8080/",
     "height": 34
    },
    "colab_type": "code",
    "id": "PKKhvBL54Fo0",
    "outputId": "06bf840b-9cac-43e6-dcc9-92e2146b925b"
   },
   "outputs": [
    {
     "data": {
      "text/plain": [
       "'aanhra'"
      ]
     },
     "execution_count": 13,
     "metadata": {},
     "output_type": "execute_result"
    }
   ],
   "source": [
    "sample1 = \"RanajnSharma\"\n",
    "keep_even = \"\".join([sample1[i] for i in range(1,len(sample1),2)])\n",
    "keep_even"
   ]
  },
  {
   "cell_type": "markdown",
   "metadata": {
    "colab_type": "text",
    "id": "caIC9lzw4Fo9"
   },
   "source": [
    "---\n",
    "Q6. Write the python program to print the following floating numbers up\n",
    "to 2 decimal places?"
   ]
  },
  {
   "cell_type": "code",
   "execution_count": 14,
   "metadata": {
    "colab": {
     "base_uri": "https://localhost:8080/",
     "height": 34
    },
    "colab_type": "code",
    "id": "F8lDTPGK4Fo_",
    "outputId": "cf34c5a0-9cb2-4b53-cdf3-285df99a2c16"
   },
   "outputs": [
    {
     "name": "stdout",
     "output_type": "stream",
     "text": [
      "1213.23\n"
     ]
    }
   ],
   "source": [
    "x = 1213.2323 # any float no.\n",
    "print(round(x, 2))"
   ]
  },
  {
   "cell_type": "markdown",
   "metadata": {
    "colab_type": "text",
    "id": "uJ1DXy3j4FpK"
   },
   "source": [
    "---\n",
    "Q7. Write the Python program to format a number with a percentage?"
   ]
  },
  {
   "cell_type": "code",
   "execution_count": 17,
   "metadata": {
    "colab": {
     "base_uri": "https://localhost:8080/",
     "height": 34
    },
    "colab_type": "code",
    "id": "5cVXdCrU4FpN",
    "outputId": "d67ff03d-5082-4bcb-9333-56c3043c7d1a"
   },
   "outputs": [
    {
     "data": {
      "text/plain": [
       "('46', '46.000000')"
      ]
     },
     "execution_count": 17,
     "metadata": {},
     "output_type": "execute_result"
    }
   ],
   "source": [
    "\"%d\"%46.5, \"%f\"%46"
   ]
  },
  {
   "cell_type": "markdown",
   "metadata": {
    "colab_type": "text",
    "id": "h2kxT6Mj4FpT"
   },
   "source": [
    "---\n",
    "Q8. Write the Python program to count occurrences of a substring in a\n",
    "String?"
   ]
  },
  {
   "cell_type": "code",
   "execution_count": 18,
   "metadata": {
    "colab": {},
    "colab_type": "code",
    "id": "r2PCf_Nq3XwO"
   },
   "outputs": [],
   "source": [
    "def find_freq_of_subString(mainString=None, subString=None):\n",
    "    '''\n",
    "    calculate frequency of occurance of substring in mainstring\n",
    "    '''\n",
    "    count = 0 # freuency counter initialized\n",
    "    n = len(mainString)  \n",
    "    k = len(subString) # window\n",
    "\n",
    "    # iterate over main string in chunks=n and increment count if  \n",
    "    # subString matches chunk of mainString\n",
    "    for i in range(n-k+1):\n",
    "        if subString == mainString[i:i+k]:\n",
    "            count+=1\n",
    "    \n",
    "    return count"
   ]
  },
  {
   "cell_type": "code",
   "execution_count": 19,
   "metadata": {
    "colab": {
     "base_uri": "https://localhost:8080/",
     "height": 34
    },
    "colab_type": "code",
    "id": "HzSPgTPY38bk",
    "outputId": "8ed330e0-9468-46a0-9994-396d8587b66f"
   },
   "outputs": [
    {
     "name": "stdout",
     "output_type": "stream",
     "text": [
      "frequency of 'ss' in 'mississippi' is 2\n"
     ]
    }
   ],
   "source": [
    "mainString=\"mississippi\"\n",
    "subString = \"ss\"\n",
    "\n",
    "result = find_freq_of_subString(mainString, subString)\n",
    "print(f\"frequency of '{subString}' in '{mainString}' is {result}\")"
   ]
  },
  {
   "cell_type": "code",
   "execution_count": 20,
   "metadata": {
    "colab": {
     "base_uri": "https://localhost:8080/",
     "height": 34
    },
    "colab_type": "code",
    "id": "nnvGyHfz4FpV",
    "outputId": "4f9cc216-35f8-4fbc-8ea1-d05f84ae269d"
   },
   "outputs": [
    {
     "name": "stdout",
     "output_type": "stream",
     "text": [
      "frequency of 'ss' in 'mississippi' is 2\n"
     ]
    }
   ],
   "source": [
    "# easiest alternative of above case using count method of string -\n",
    "mainString=\"mississippi\"\n",
    "subString = \"ss\"\n",
    "result = mainString.count(subString)\n",
    "print(f\"frequency of '{subString}' in '{mainString}' is {result}\")"
   ]
  },
  {
   "cell_type": "markdown",
   "metadata": {
    "colab_type": "text",
    "id": "tpl_2D544Fpc"
   },
   "source": [
    "---\n",
    "Q9. Write the Python program to count repeated characters in a string.\n",
    "\n",
    "    Sample string: ' thequickbrownjumpsoverthelazydog '\n",
    "    \n",
    "    Expected output:\n",
    "    o 3\n",
    "    e 3\n",
    "    u 2\n",
    "    h 2\n",
    "    r 2\n",
    "    t 2"
   ]
  },
  {
   "cell_type": "code",
   "execution_count": 0,
   "metadata": {
    "colab": {},
    "colab_type": "code",
    "id": "N8zPWZTsyEZW"
   },
   "outputs": [],
   "source": [
    "def count_freq_of_letters(inString=None):\n",
    "    '''\n",
    "    prints freq of letters > 1 present in a given string\n",
    "    '''\n",
    "    # temporary dictionary to save the counts of words\n",
    "    letter_counter = dict()\n",
    "\n",
    "\n",
    "    for letter in inString:\n",
    "        if letter not in letter_counter.keys():\n",
    "            # init counter for letter not present in keys\n",
    "            letter_counter[letter] = 1\n",
    "        else:\n",
    "            # increment counter if letter present in keys\n",
    "            letter_counter[letter] += 1\n",
    "\n",
    "    # import pandas to return dataframe of letters and frequency\n",
    "    import pandas as pd\n",
    "    df = pd.DataFrame(letter_counter.items(), \\\n",
    "                        columns=['letter', 'freq']).set_index('letter')\n",
    "\n",
    "    # keep only the data where freq is greater than 1 \n",
    "    return df[df['freq'] > 1]"
   ]
  },
  {
   "cell_type": "code",
   "execution_count": 22,
   "metadata": {
    "colab": {
     "base_uri": "https://localhost:8080/",
     "height": 254
    },
    "colab_type": "code",
    "id": "ABWb6uijzQMv",
    "outputId": "ff4050d7-41a9-4e3b-9c82-8d7ab553f1d1"
   },
   "outputs": [
    {
     "data": {
      "text/html": [
       "<div>\n",
       "<style scoped>\n",
       "    .dataframe tbody tr th:only-of-type {\n",
       "        vertical-align: middle;\n",
       "    }\n",
       "\n",
       "    .dataframe tbody tr th {\n",
       "        vertical-align: top;\n",
       "    }\n",
       "\n",
       "    .dataframe thead th {\n",
       "        text-align: right;\n",
       "    }\n",
       "</style>\n",
       "<table border=\"1\" class=\"dataframe\">\n",
       "  <thead>\n",
       "    <tr style=\"text-align: right;\">\n",
       "      <th></th>\n",
       "      <th>freq</th>\n",
       "    </tr>\n",
       "    <tr>\n",
       "      <th>letter</th>\n",
       "      <th></th>\n",
       "    </tr>\n",
       "  </thead>\n",
       "  <tbody>\n",
       "    <tr>\n",
       "      <th>t</th>\n",
       "      <td>2</td>\n",
       "    </tr>\n",
       "    <tr>\n",
       "      <th>h</th>\n",
       "      <td>2</td>\n",
       "    </tr>\n",
       "    <tr>\n",
       "      <th>e</th>\n",
       "      <td>3</td>\n",
       "    </tr>\n",
       "    <tr>\n",
       "      <th>u</th>\n",
       "      <td>2</td>\n",
       "    </tr>\n",
       "    <tr>\n",
       "      <th>r</th>\n",
       "      <td>2</td>\n",
       "    </tr>\n",
       "    <tr>\n",
       "      <th>o</th>\n",
       "      <td>4</td>\n",
       "    </tr>\n",
       "  </tbody>\n",
       "</table>\n",
       "</div>"
      ],
      "text/plain": [
       "        freq\n",
       "letter      \n",
       "t          2\n",
       "h          2\n",
       "e          3\n",
       "u          2\n",
       "r          2\n",
       "o          4"
      ]
     },
     "execution_count": 22,
     "metadata": {
      "tags": []
     },
     "output_type": "execute_result"
    }
   ],
   "source": [
    "Sample_string= 'thequickbrownfoxjumpsoverthelazydog'\n",
    "\n",
    "count_freq_of_letters(inString=Sample_string)"
   ]
  },
  {
   "cell_type": "markdown",
   "metadata": {
    "colab_type": "text",
    "id": "xhz2DlOZ4Fpi"
   },
   "source": [
    "---\n",
    "Q10. Write the Python program to print the square and cube symbol in\n",
    "the area of a rectangle and volume of a cylinder?\n",
    "\n",
    "    Sample output\n",
    "    The area of the rectangle is 1256.66cm2\n",
    "    The volume of the cylinder is 1254.725cm3\n"
   ]
  },
  {
   "cell_type": "code",
   "execution_count": 26,
   "metadata": {
    "colab": {
     "base_uri": "https://localhost:8080/",
     "height": 50
    },
    "colab_type": "code",
    "id": "8uHHk0wO4Fpj",
    "outputId": "c8edb9ab-45c6-4c75-ffdc-bcf9cfb89b5c"
   },
   "outputs": [
    {
     "name": "stdout",
     "output_type": "stream",
     "text": [
      "The area of the rectangle is 1256.66cm²\n",
      "The volume of the cylinder is 1254.725cm³\n"
     ]
    }
   ],
   "source": [
    "print(\"The area of the rectangle is 1256.66cm\\u00b2\")\n",
    "print(\"The volume of the cylinder is 1254.725cm\\u00b3\")"
   ]
  },
  {
   "cell_type": "markdown",
   "metadata": {
    "colab_type": "text",
    "id": "aq0Cz7E14Fpo"
   },
   "source": [
    "---\n",
    "Q11. Write the Python program to check if a string contains all letters of\n",
    "the alphabet?"
   ]
  },
  {
   "cell_type": "code",
   "execution_count": 28,
   "metadata": {
    "colab": {},
    "colab_type": "code",
    "id": "hK78i0VSnwFN"
   },
   "outputs": [],
   "source": [
    "def checkAlpha(sample):\n",
    "    '''\n",
    "    function to check if a string contains all letters of the alphabet\n",
    "    '''\n",
    "    # import string module to get a string of all lowercase letters\n",
    "    import string\n",
    "    lowerCase = string.ascii_lowercase\n",
    "\n",
    "    # count how many letters of alphabets present in the given string\n",
    "    alphas = 0\n",
    "    for i in lowerCase:\n",
    "        if i in sample.lower():\n",
    "            alphas += 1\n",
    "\n",
    "    # return true if all 26 alphabets were present\n",
    "    return alphas == 26"
   ]
  },
  {
   "cell_type": "code",
   "execution_count": 29,
   "metadata": {
    "colab": {
     "base_uri": "https://localhost:8080/",
     "height": 34
    },
    "colab_type": "code",
    "id": "WxadX1Q-okZh",
    "outputId": "fcb3a52c-4575-475d-ea11-ea388e05c321"
   },
   "outputs": [
    {
     "data": {
      "text/plain": [
       "True"
      ]
     },
     "execution_count": 29,
     "metadata": {},
     "output_type": "execute_result"
    }
   ],
   "source": [
    "Sample_string1= 'thequickbrownfoxjumpsoverthelazydog'\n",
    "checkAlpha(Sample_string1)"
   ]
  },
  {
   "cell_type": "code",
   "execution_count": 30,
   "metadata": {
    "colab": {
     "base_uri": "https://localhost:8080/",
     "height": 34
    },
    "colab_type": "code",
    "id": "tXlHfTLYotnG",
    "outputId": "685664fe-e161-480b-ae38-f004adb75682"
   },
   "outputs": [
    {
     "data": {
      "text/plain": [
       "False"
      ]
     },
     "execution_count": 30,
     "metadata": {},
     "output_type": "execute_result"
    }
   ],
   "source": [
    "Sample_string2= 'ultra smooth beer'\n",
    "checkAlpha(Sample_string2)"
   ]
  },
  {
   "cell_type": "markdown",
   "metadata": {
    "colab_type": "text",
    "id": "3IC4vFym4Fpu"
   },
   "source": [
    "---\n",
    "Q12. Write the Python program to find the second most repeated word\n",
    "in a given string?"
   ]
  },
  {
   "cell_type": "code",
   "execution_count": 31,
   "metadata": {
    "colab": {},
    "colab_type": "code",
    "id": "jlOHp3cCt52x"
   },
   "outputs": [],
   "source": [
    "def find_2nd_most_freq(inString=None):\n",
    "    '''\n",
    "    function to return 2nd most frequent word from the string\n",
    "    '''\n",
    "    # split the input string into list\n",
    "    words = inString.split()\n",
    "\n",
    "    # temporary dictionary to save the counts of words\n",
    "    word_counter = dict()\n",
    "\n",
    "    for word in words:\n",
    "        if word not in word_counter.keys():\n",
    "            # init counter for word not in list\n",
    "            word_counter[word] = 1 \n",
    "        else:\n",
    "            # increment counter if word already present\n",
    "            word_counter[word] += 1 \n",
    "\n",
    "    # frequency of 2nd most repeated word\n",
    "    f2 = sorted(set(word_counter.values()))[1]\n",
    "\n",
    "    # return ther word when it matches f2\n",
    "    for word, freq in word_counter.items():\n",
    "        if freq == f2:\n",
    "            return word"
   ]
  },
  {
   "cell_type": "code",
   "execution_count": 33,
   "metadata": {
    "colab": {
     "base_uri": "https://localhost:8080/",
     "height": 50
    },
    "colab_type": "code",
    "id": "myaMlUS6v4A1",
    "outputId": "30242d01-335a-4bec-9df9-b85ba6f3080e"
   },
   "outputs": [
    {
     "name": "stdout",
     "output_type": "stream",
     "text": [
      "2nd most frequent word in input string is:-\n",
      "'hello'\n"
     ]
    }
   ],
   "source": [
    "inString = \"hello hello Ranjan Are you there hello?\"\n",
    "result = find_2nd_most_freq(inString)\n",
    "print(f\"2nd most frequent word in input string is:-\\n'{result}'\")"
   ]
  },
  {
   "cell_type": "markdown",
   "metadata": {
    "colab_type": "text",
    "id": "7p5LD91J4Fp1"
   },
   "source": [
    "---\n",
    "Q13. Write the Python program to find the minimum window in the given\n",
    "string, which will contains all the characters of another given\n",
    "strings?\n",
    "\n",
    "    Example 1\n",
    "    Input : string1 = \" PRWSOERIUSFK \"\n",
    "    string2 = \" OSU \"\n",
    "    Output: Minimum window is \"SOERIU\""
   ]
  },
  {
   "cell_type": "code",
   "execution_count": 0,
   "metadata": {
    "colab": {},
    "colab_type": "code",
    "id": "flqC5jgJnCyo"
   },
   "outputs": [],
   "source": [
    "def get_min_window_for_substring(string1, string2):\n",
    "    '''\n",
    "    returns min window in string1 which contains all chars of string2\n",
    "    irresptctive of order of chars in string2 \n",
    "    '''\n",
    "    d = dict() # create an empty dictionary\n",
    "    # iterate over string2 and save the first occurances of string2 \n",
    "    # chars in string1 \n",
    "    for val in string2:\n",
    "        d[val] = string1.index(val)\n",
    "\n",
    "    # return string1[ min of dict values: plus 1 in max of dict values]\n",
    "    return string1[min(d.values()): max(d.values()) + 1]"
   ]
  },
  {
   "cell_type": "code",
   "execution_count": 30,
   "metadata": {
    "colab": {
     "base_uri": "https://localhost:8080/",
     "height": 34
    },
    "colab_type": "code",
    "id": "fidiTaA9nxWf",
    "outputId": "3971af5f-1de1-40af-d1e5-289dd22b92a8"
   },
   "outputs": [
    {
     "name": "stdout",
     "output_type": "stream",
     "text": [
      "Output: Minimum window is \"SOERIU\"\n"
     ]
    }
   ],
   "source": [
    "string1 = \"PRWSOERIUSFK\"\n",
    "string2 = \"OSU\"\n",
    "\n",
    "result = get_min_window_for_substring(string1, string2)\n",
    "\n",
    "print(f'Output: Minimum window is \"{result}\"')"
   ]
  },
  {
   "cell_type": "markdown",
   "metadata": {
    "colab_type": "text",
    "id": "jOzxCmNf4FqB"
   },
   "source": [
    "---\n",
    "Q14. Write the Python program to count number of substrings from a\n",
    "given string of lowercase alphabets with exactly k distinct (given)\n",
    "characters?\n",
    "\n",
    "    Input a string (lowercase alphabets): wolf\n",
    "    Input k: 4\n",
    "    Number of substrings with exactly 4 distinct characters: 1"
   ]
  },
  {
   "cell_type": "code",
   "execution_count": 0,
   "metadata": {
    "colab": {},
    "colab_type": "code",
    "id": "1DNktdnZc4KA"
   },
   "outputs": [],
   "source": [
    "def get_subtring_count(inString=None, window=None):\n",
    "    '''returns the count of substring based on length of window given'''\n",
    "    n = len(inString) \n",
    "    # check if non integer values is given for window\n",
    "    if (window is None):\n",
    "        k = n # default case = lenth of input string\n",
    "    else:\n",
    "        k = int(window)\n",
    "    inString = inString.lower()\n",
    "    return len([inString[i:i+k] for i in range(n-k+1)])"
   ]
  },
  {
   "cell_type": "code",
   "execution_count": 32,
   "metadata": {
    "colab": {
     "base_uri": "https://localhost:8080/",
     "height": 67
    },
    "colab_type": "code",
    "id": "glsoKo_r4FqC",
    "outputId": "47805b0a-2e57-4007-ab20-c82b5790836e"
   },
   "outputs": [
    {
     "name": "stdout",
     "output_type": "stream",
     "text": [
      "Input a string: wolf\n",
      "enter k: 2\n",
      "Number of substrings with exactly 2 distinct characters: 3\n"
     ]
    }
   ],
   "source": [
    "testInput = input(\"Input a string: \")\n",
    "num = int(input(\"enter k: \"))\n",
    "\n",
    "result = get_subtring_count(inString=testInput, window=num)\n",
    "\n",
    "print(f\"Number of substrings with exactly {num} distinct characters: {result}\")"
   ]
  },
  {
   "cell_type": "code",
   "execution_count": 33,
   "metadata": {
    "colab": {
     "base_uri": "https://localhost:8080/",
     "height": 34
    },
    "colab_type": "code",
    "id": "MFWZUd0Yg0_2",
    "outputId": "87e01730-2663-4fa6-d3e0-5cab6558c621"
   },
   "outputs": [
    {
     "name": "stdout",
     "output_type": "stream",
     "text": [
      "Number of substrings with exactly 2 distinct characters: 1\n"
     ]
    }
   ],
   "source": [
    "result = get_subtring_count(inString=testInput) # when windows kwarg not used\n",
    "\n",
    "print(f\"Number of substrings with exactly {num} distinct characters: {result}\")"
   ]
  },
  {
   "cell_type": "markdown",
   "metadata": {
    "colab_type": "text",
    "id": "jYwT2UcH4FqG"
   },
   "source": [
    "---\n",
    "Q15. Write the Python program to count number of substrings with same\n",
    "first and last characters of the given string?\n",
    "\n",
    "    Input a string: abcd\n",
    "    4\n"
   ]
  },
  {
   "cell_type": "code",
   "execution_count": 0,
   "metadata": {
    "colab": {},
    "colab_type": "code",
    "id": "put4sgJo9s6o"
   },
   "outputs": [],
   "source": [
    "def get_spcl_string_count(inString=None):\n",
    "    str1 = inString\n",
    "    result = list()\n",
    "    # enumerate over str1 with idx=i\n",
    "    for i, _ in enumerate(str1):\n",
    "        # enumerate over str1 with idx=j\n",
    "        for j, _ in enumerate(str1):\n",
    "            # keep subtring of str from i to j+1\n",
    "            temp = str1[i:j+1]\n",
    "            # check if temp >= 1 and first and last letters are same\n",
    "            if (len(temp) >= 1) and (temp[0] == temp[-1]):\n",
    "                # append the temp string in results\n",
    "                result.append(temp)\n",
    "    # return len and result\n",
    "    return len(result), result"
   ]
  },
  {
   "cell_type": "code",
   "execution_count": 35,
   "metadata": {
    "colab": {
     "base_uri": "https://localhost:8080/",
     "height": 50
    },
    "colab_type": "code",
    "id": "OmXqIGeC_e1R",
    "outputId": "8ea46575-51d9-4ab4-9262-fcbec8fafbc2"
   },
   "outputs": [
    {
     "name": "stdout",
     "output_type": "stream",
     "text": [
      "4\n",
      "['a', 'b', 'c', 'd']\n"
     ]
    }
   ],
   "source": [
    "your_string = 'abcd'\n",
    "length, lst = get_spcl_string_count(inString=your_string)\n",
    "print(length)\n",
    "print(lst)"
   ]
  },
  {
   "cell_type": "code",
   "execution_count": 36,
   "metadata": {
    "colab": {
     "base_uri": "https://localhost:8080/",
     "height": 50
    },
    "colab_type": "code",
    "id": "oqZmFqwr_0Tj",
    "outputId": "c80203b1-28c8-4376-e3f3-b6dde02fdfb4"
   },
   "outputs": [
    {
     "name": "stdout",
     "output_type": "stream",
     "text": [
      "7\n",
      "['a', 'abca', 'b', 'bcab', 'c', 'a', 'b']\n"
     ]
    }
   ],
   "source": [
    "your_string = 'abcab'\n",
    "length, lst = get_spcl_string_count(inString=your_string)\n",
    "print(length)\n",
    "print(lst)"
   ]
  },
  {
   "cell_type": "markdown",
   "metadata": {
    "colab_type": "text",
    "id": "6XuHrPqw4FqM"
   },
   "source": [
    "## Great Job!"
   ]
  }
 ],
 "metadata": {
  "colab": {
   "collapsed_sections": [],
   "include_colab_link": true,
   "name": "Subjective Assignment - 1- Python coreDONE.ipynb",
   "provenance": []
  },
  "kernelspec": {
   "display_name": "Python 3",
   "language": "python",
   "name": "python3"
  },
  "language_info": {
   "codemirror_mode": {
    "name": "ipython",
    "version": 3
   },
   "file_extension": ".py",
   "mimetype": "text/x-python",
   "name": "python",
   "nbconvert_exporter": "python",
   "pygments_lexer": "ipython3",
   "version": "3.7.4"
  }
 },
 "nbformat": 4,
 "nbformat_minor": 1
}
